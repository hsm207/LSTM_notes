{
 "cells": [
  {
   "cell_type": "markdown",
   "metadata": {
    "toc": true
   },
   "source": [
    "<h1>Table of Contents<span class=\"tocSkip\"></span></h1>\n",
    "<div class=\"toc\" style=\"margin-top: 1em;\"><ul class=\"toc-item\"><li><span><a href=\"#Libraries\" data-toc-modified-id=\"Libraries-1\"><span class=\"toc-item-num\">1&nbsp;&nbsp;</span>Libraries</a></span></li><li><span><a href=\"#Introduction\" data-toc-modified-id=\"Introduction-2\"><span class=\"toc-item-num\">2&nbsp;&nbsp;</span>Introduction</a></span></li><li><span><a href=\"#Setup\" data-toc-modified-id=\"Setup-3\"><span class=\"toc-item-num\">3&nbsp;&nbsp;</span>Setup</a></span></li><li><span><a href=\"#Calculations\" data-toc-modified-id=\"Calculations-4\"><span class=\"toc-item-num\">4&nbsp;&nbsp;</span>Calculations</a></span></li><li><span><a href=\"#Conclusion\" data-toc-modified-id=\"Conclusion-5\"><span class=\"toc-item-num\">5&nbsp;&nbsp;</span>Conclusion</a></span></li></ul></div>"
   ]
  },
  {
   "cell_type": "markdown",
   "metadata": {},
   "source": [
    "# Libraries"
   ]
  },
  {
   "cell_type": "code",
   "execution_count": 1,
   "metadata": {},
   "outputs": [],
   "source": [
    "import tensorflow as tf\n",
    "import numpy as np\n",
    "from tensorflow.python.keras.layers import LSTM"
   ]
  },
  {
   "cell_type": "code",
   "execution_count": 2,
   "metadata": {},
   "outputs": [],
   "source": [
    "sess = tf.InteractiveSession()"
   ]
  },
  {
   "cell_type": "markdown",
   "metadata": {},
   "source": [
    "# Introduction"
   ]
  },
  {
   "cell_type": "markdown",
   "metadata": {},
   "source": [
    "This notebook shows how Keras implements the LSTM network described in [Denny Britz's tutorial](http://www.wildml.com/2015/10/recurrent-neural-network-tutorial-part-4-implementing-a-grulstm-rnn-with-python-and-theano/) by walking through the calculations using a trivial example."
   ]
  },
  {
   "cell_type": "markdown",
   "metadata": {},
   "source": [
    "# Setup"
   ]
  },
  {
   "cell_type": "markdown",
   "metadata": {},
   "source": [
    "Specify the size of the hidden state:"
   ]
  },
  {
   "cell_type": "code",
   "execution_count": 3,
   "metadata": {},
   "outputs": [],
   "source": [
    "n_hidden = 1"
   ]
  },
  {
   "cell_type": "markdown",
   "metadata": {},
   "source": [
    "Create an LSTM cell:"
   ]
  },
  {
   "cell_type": "code",
   "execution_count": 4,
   "metadata": {},
   "outputs": [],
   "source": [
    "lstm_cell = LSTM(units=n_hidden, activation='tanh', recurrent_activation='sigmoid', return_sequences=True, return_state=True, implementation=1)"
   ]
  },
  {
   "cell_type": "markdown",
   "metadata": {},
   "source": [
    "Create some dummy data to be passed into the LSTM cell:"
   ]
  },
  {
   "cell_type": "code",
   "execution_count": 5,
   "metadata": {},
   "outputs": [
    {
     "data": {
      "text/plain": [
       "array([[[ 2.]]], dtype=float32)"
      ]
     },
     "execution_count": 5,
     "metadata": {},
     "output_type": "execute_result"
    }
   ],
   "source": [
    "x_i = np.array(2).reshape((1, 1, 1))\n",
    "x_i = tf.constant(x_i, tf.float32)\n",
    "x_i.eval()"
   ]
  },
  {
   "cell_type": "markdown",
   "metadata": {},
   "source": [
    "Specify some weights in the form Keras expects:"
   ]
  },
  {
   "cell_type": "code",
   "execution_count": 6,
   "metadata": {},
   "outputs": [],
   "source": [
    "lstm_cell.build(x_i.shape)\n",
    "\n",
    "weights_kernel = np.array([0, 1, 4, 1]).reshape((1,4))\n",
    "weights_recurrent = np.array([3, 2, -5, 4]).reshape((1,4))\n",
    "weights_bias = np.array([1, 2, 3, 2]).reshape((4,))"
   ]
  },
  {
   "cell_type": "code",
   "execution_count": 7,
   "metadata": {},
   "outputs": [],
   "source": [
    "lstm_cell.set_weights([weights_kernel, weights_recurrent, weights_bias])"
   ]
  },
  {
   "cell_type": "markdown",
   "metadata": {},
   "source": [
    "Compute the outputs using Keras:"
   ]
  },
  {
   "cell_type": "code",
   "execution_count": 8,
   "metadata": {},
   "outputs": [
    {
     "name": "stdout",
     "output_type": "stream",
     "text": [
      "WARNING:tensorflow:From C:\\Users\\mshukri\\Anaconda3\\envs\\tf-nightly\\lib\\site-packages\\tensorflow\\python\\keras\\_impl\\keras\\backend.py:1456: calling reduce_sum (from tensorflow.python.ops.math_ops) with keep_dims is deprecated and will be removed in a future version.\n",
      "Instructions for updating:\n",
      "keep_dims is deprecated, use keepdims instead\n"
     ]
    }
   ],
   "source": [
    "output_keras, h_t_keras, c_t_keras = lstm_cell(x_i)"
   ]
  },
  {
   "cell_type": "markdown",
   "metadata": {},
   "source": [
    "Check that ouput is the same as h_t:"
   ]
  },
  {
   "cell_type": "code",
   "execution_count": 9,
   "metadata": {},
   "outputs": [],
   "source": [
    "tf.assert_equal(output_keras, h_t_keras).run()"
   ]
  },
  {
   "cell_type": "markdown",
   "metadata": {},
   "source": [
    "# Calculations"
   ]
  },
  {
   "cell_type": "markdown",
   "metadata": {},
   "source": [
    "Reshape weights into matrices:"
   ]
  },
  {
   "cell_type": "code",
   "execution_count": 10,
   "metadata": {},
   "outputs": [],
   "source": [
    "U_i = weights_kernel[:, :n_hidden]\n",
    "U_f = weights_kernel[:, n_hidden:n_hidden * 2]\n",
    "U_g = weights_kernel[:, n_hidden * 2:n_hidden * 3]\n",
    "U_o = weights_kernel[:, n_hidden * 3:]"
   ]
  },
  {
   "cell_type": "code",
   "execution_count": 11,
   "metadata": {},
   "outputs": [],
   "source": [
    "W_i = weights_recurrent[:, :n_hidden]\n",
    "W_f = weights_recurrent[:, n_hidden:n_hidden * 2]\n",
    "W_g = weights_recurrent[:, n_hidden * 2:n_hidden * 3]\n",
    "W_o = weights_recurrent[:, n_hidden * 3:]"
   ]
  },
  {
   "cell_type": "code",
   "execution_count": 12,
   "metadata": {},
   "outputs": [],
   "source": [
    "b_i = weights_bias[:n_hidden]\n",
    "b_f = weights_bias[n_hidden:n_hidden * 2]\n",
    "b_g = weights_bias[n_hidden * 2:n_hidden * 3]\n",
    "b_o = weights_bias[n_hidden * 3:]"
   ]
  },
  {
   "cell_type": "markdown",
   "metadata": {},
   "source": [
    "Set the initial states:"
   ]
  },
  {
   "cell_type": "code",
   "execution_count": 13,
   "metadata": {},
   "outputs": [],
   "source": [
    "s_0 = np.zeros(x_i.shape, np.float32)\n",
    "c_0 = np.zeros(x_i.shape, np.float32)"
   ]
  },
  {
   "cell_type": "markdown",
   "metadata": {},
   "source": [
    "Compute the gates:"
   ]
  },
  {
   "cell_type": "code",
   "execution_count": 14,
   "metadata": {},
   "outputs": [],
   "source": [
    "i = tf.sigmoid(x_i * U_i  + s_0 * W_i + b_i)\n",
    "f = tf.sigmoid(x_i * U_f  + s_0 * W_f + b_f)\n",
    "o = tf.sigmoid(x_i * U_o  + s_0 * W_o + b_o)\n",
    "g = tf.tanh(   x_i * U_g  + s_0 * W_g + b_g)\n"
   ]
  },
  {
   "cell_type": "markdown",
   "metadata": {},
   "source": [
    "Check for c_t:"
   ]
  },
  {
   "cell_type": "code",
   "execution_count": 15,
   "metadata": {},
   "outputs": [
    {
     "data": {
      "text/plain": [
       "array([[[ 0.7310586]]], dtype=float32)"
      ]
     },
     "execution_count": 15,
     "metadata": {},
     "output_type": "execute_result"
    }
   ],
   "source": [
    "c_t_manual = tf.multiply(c_0, f) + tf.multiply(g, i)\n",
    "c_t_manual.eval()"
   ]
  },
  {
   "cell_type": "code",
   "execution_count": 16,
   "metadata": {},
   "outputs": [
    {
     "data": {
      "text/plain": [
       "array([[ 0.7310586]], dtype=float32)"
      ]
     },
     "execution_count": 16,
     "metadata": {},
     "output_type": "execute_result"
    }
   ],
   "source": [
    "c_t_keras.eval()"
   ]
  },
  {
   "cell_type": "code",
   "execution_count": 17,
   "metadata": {},
   "outputs": [],
   "source": [
    "tf.assert_equal(c_t_manual, c_t_keras).run()"
   ]
  },
  {
   "cell_type": "markdown",
   "metadata": {},
   "source": [
    "Check for h_t:"
   ]
  },
  {
   "cell_type": "code",
   "execution_count": 18,
   "metadata": {},
   "outputs": [
    {
     "data": {
      "text/plain": [
       "array([[[ 0.61249435]]], dtype=float32)"
      ]
     },
     "execution_count": 18,
     "metadata": {},
     "output_type": "execute_result"
    }
   ],
   "source": [
    "h_t_manual = tf.multiply(tf.tanh(c_t_manual), o)\n",
    "h_t_manual.eval()"
   ]
  },
  {
   "cell_type": "code",
   "execution_count": 19,
   "metadata": {},
   "outputs": [
    {
     "data": {
      "text/plain": [
       "array([[ 0.61249435]], dtype=float32)"
      ]
     },
     "execution_count": 19,
     "metadata": {},
     "output_type": "execute_result"
    }
   ],
   "source": [
    "h_t_keras.eval()"
   ]
  },
  {
   "cell_type": "code",
   "execution_count": 20,
   "metadata": {},
   "outputs": [],
   "source": [
    "tf.assert_equal(h_t_manual, h_t_keras).run()"
   ]
  },
  {
   "cell_type": "markdown",
   "metadata": {},
   "source": [
    "# Conclusion"
   ]
  },
  {
   "cell_type": "markdown",
   "metadata": {},
   "source": [
    "1. In Keras, the output of LSTM() is the last hidden state.\n",
    "2. In Keras, kernel weights are the weights that are multiplied with the data, $x_t$ and the recurrent weights are the weights that are multiplied with the previous hidden state.\n",
    "2. g is \"candidate\" memory while $c_t$ is the final memory that gets sent to the next LSTM cell.\n",
    "3. The only outputs of an LSTM cell at step $t$ are $h_t$ and $c_t$.\n",
    "4. Number of parameters in an LSTM network:\n",
    "\n",
    "$\\text{Parameters for kernel matrices} +\\text{Parameters for recurrent matrices}+\\text{Parameters for biases}$\n",
    "\n",
    "where:\n",
    "\n",
    "$$\\begin{eqnarray*}\n",
    "\\text{Parameters for kernel matrices} & = & 4\\times\\left(\\text{input dimension}\\times\\text{hidden state dimension}\\right)\\\\\n",
    "\\text{Parameters for recurrent matrices} & = & 4\\times\\left(\\text{hidden state dimension}\\times \\text{hidden state dimension}\\right)\\\\\n",
    "\\text{Parameters for biases} & = & 4\\times\\text{hidden state dimension}\n",
    "\\end{eqnarray*}\n",
    "$$"
   ]
  },
  {
   "cell_type": "code",
   "execution_count": null,
   "metadata": {},
   "outputs": [],
   "source": []
  }
 ],
 "metadata": {
  "kernelspec": {
   "display_name": "Python 3",
   "language": "python",
   "name": "python3"
  },
  "language_info": {
   "codemirror_mode": {
    "name": "ipython",
    "version": 3
   },
   "file_extension": ".py",
   "mimetype": "text/x-python",
   "name": "python",
   "nbconvert_exporter": "python",
   "pygments_lexer": "ipython3",
   "version": "3.6.3"
  },
  "toc": {
   "nav_menu": {},
   "number_sections": true,
   "sideBar": true,
   "skip_h1_title": false,
   "toc_cell": true,
   "toc_position": {},
   "toc_section_display": "block",
   "toc_window_display": true
  }
 },
 "nbformat": 4,
 "nbformat_minor": 2
}
